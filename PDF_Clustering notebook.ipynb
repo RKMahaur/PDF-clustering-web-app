{
  "nbformat": 4,
  "nbformat_minor": 0,
  "metadata": {
    "colab": {
      "provenance": []
    },
    "kernelspec": {
      "name": "python3",
      "display_name": "Python 3"
    },
    "language_info": {
      "name": "python"
    }
  },
  "cells": [
    {
      "cell_type": "code",
      "source": [
        "!pip install pymupdf"
      ],
      "metadata": {
        "colab": {
          "base_uri": "https://localhost:8080/"
        },
        "id": "01XVr-Z8RGHL",
        "outputId": "a20adaaa-5182-47f1-cf01-faba72c5a9ac"
      },
      "execution_count": 1,
      "outputs": [
        {
          "output_type": "stream",
          "name": "stdout",
          "text": [
            "Collecting pymupdf\n",
            "  Downloading PyMuPDF-1.24.13-cp39-abi3-manylinux2014_x86_64.manylinux_2_17_x86_64.whl.metadata (3.4 kB)\n",
            "Downloading PyMuPDF-1.24.13-cp39-abi3-manylinux2014_x86_64.manylinux_2_17_x86_64.whl (19.8 MB)\n",
            "\u001b[2K   \u001b[90m━━━━━━━━━━━━━━━━━━━━━━━━━━━━━━━━━━━━━━━━\u001b[0m \u001b[32m19.8/19.8 MB\u001b[0m \u001b[31m25.1 MB/s\u001b[0m eta \u001b[36m0:00:00\u001b[0m\n",
            "\u001b[?25hInstalling collected packages: pymupdf\n",
            "Successfully installed pymupdf-1.24.13\n"
          ]
        }
      ]
    },
    {
      "cell_type": "markdown",
      "source": [
        "Uploading and reading PDF files"
      ],
      "metadata": {
        "id": "kqej8CC1AdSL"
      }
    },
    {
      "cell_type": "code",
      "source": [
        "#importing the dependencies\n",
        "\n",
        "import os\n",
        "import fitz # PyMuPDF\n",
        "import pandas as pd\n",
        "import numpy as np\n",
        "import re\n",
        "from sklearn.feature_extraction.text import TfidfVectorizer\n",
        "from sklearn.cluster import KMeans\n",
        "import pickle\n",
        "from google.colab import files\n",
        "\n",
        "# Mount Google Drive\n",
        "from google.colab import drive\n",
        "drive.mount('/content/drive')\n",
        "\n",
        "# Specify your folder path\n",
        "folder_path = '/content/drive/MyDrive/Pdf dataset'\n",
        "pdf_files = [f for f in os.listdir(folder_path) if f.endswith('.pdf')]\n"
      ],
      "metadata": {
        "colab": {
          "base_uri": "https://localhost:8080/"
        },
        "id": "VYkXCjeTAFcZ",
        "outputId": "8a72e81b-5f10-4342-c96e-9c4996a1fce1"
      },
      "execution_count": 2,
      "outputs": [
        {
          "output_type": "stream",
          "name": "stdout",
          "text": [
            "Drive already mounted at /content/drive; to attempt to forcibly remount, call drive.mount(\"/content/drive\", force_remount=True).\n"
          ]
        }
      ]
    },
    {
      "cell_type": "markdown",
      "source": [
        "Extract text from PDF files"
      ],
      "metadata": {
        "id": "irnO6sWgBVPg"
      }
    },
    {
      "cell_type": "code",
      "source": [
        "def extract_text_from_pdfs(folder_path, pdf_files):\n",
        "    texts = []\n",
        "    for pdf_file in pdf_files:\n",
        "        pdf_path = os.path.join(folder_path, pdf_file)\n",
        "        try:\n",
        "            doc = fitz.open(pdf_path)\n",
        "\n",
        "            # Check if the document is encrypted\n",
        "            if doc.is_encrypted:\n",
        "                print(f\"Skipping encrypted file: {pdf_file}\")\n",
        "                continue  # Skip to the next file\n",
        "\n",
        "            text = \"\"\n",
        "            for page in doc:\n",
        "                text += page.get_text()\n",
        "            texts.append(text)\n",
        "\n",
        "        except RuntimeError as e:\n",
        "            print(f\"MuPDF RuntimeError for {pdf_file}: {e}\")\n",
        "        except Exception as e:\n",
        "            print(f\"Error processing {pdf_file}: {e}\")\n",
        "\n",
        "    return texts\n",
        "\n",
        "\n",
        "texts = extract_text_from_pdfs(folder_path, pdf_files)"
      ],
      "metadata": {
        "colab": {
          "base_uri": "https://localhost:8080/"
        },
        "id": "hVfEri21A1H2",
        "outputId": "1bf139c5-614d-46f2-b071-e093865cfde9",
        "collapsed": true
      },
      "execution_count": 3,
      "outputs": [
        {
          "output_type": "stream",
          "name": "stdout",
          "text": [
            "Skipping encrypted file: 4GJGAIUVBMLM3W7O5SV4EKDNKC4DVOCL.pdf\n",
            "MuPDF RuntimeError for 6HTC5FVAQW3DVHYRD7PVJGBBQS7GRZTL.pdf: Failed to open file '/content/drive/MyDrive/Pdf dataset/6HTC5FVAQW3DVHYRD7PVJGBBQS7GRZTL.pdf'.\n",
            "MuPDF error: format error: No default Layer config\n",
            "\n",
            "MuPDF error: format error: No default Layer config\n",
            "\n",
            "MuPDF error: format error: No default Layer config\n",
            "\n",
            "MuPDF error: format error: No default Layer config\n",
            "\n",
            "MuPDF error: format error: object out of range (1167 0 R); xref size 1167\n",
            "\n",
            "MuPDF error: format error: non-page object in page tree\n",
            "\n",
            "MuPDF error: format error: object out of range (1167 0 R); xref size 1167\n",
            "\n",
            "MuPDF error: format error: object out of range (1167 0 R); xref size 1167\n",
            "\n",
            "MuPDF error: format error: object out of range (1167 0 R); xref size 1167\n",
            "\n",
            "MuPDF error: format error: object out of range (1167 0 R); xref size 1167\n",
            "\n",
            "MuPDF error: format error: object out of range (1167 0 R); xref size 1167\n",
            "\n",
            "MuPDF error: format error: object out of range (1167 0 R); xref size 1167\n",
            "\n",
            "MuPDF error: format error: object out of range (1167 0 R); xref size 1167\n",
            "\n",
            "MuPDF error: format error: object out of range (1167 0 R); xref size 1167\n",
            "\n",
            "MuPDF error: format error: object out of range (1167 0 R); xref size 1167\n",
            "\n",
            "MuPDF error: format error: object out of range (1167 0 R); xref size 1167\n",
            "\n",
            "MuPDF error: format error: object out of range (1167 0 R); xref size 1167\n",
            "\n",
            "MuPDF error: format error: object out of range (1167 0 R); xref size 1167\n",
            "\n",
            "MuPDF error: format error: object out of range (1167 0 R); xref size 1167\n",
            "\n",
            "MuPDF error: format error: object out of range (1167 0 R); xref size 1167\n",
            "\n",
            "MuPDF error: format error: object out of range (1167 0 R); xref size 1167\n",
            "\n",
            "MuPDF error: format error: object out of range (1167 0 R); xref size 1167\n",
            "\n",
            "MuPDF error: format error: object out of range (1167 0 R); xref size 1167\n",
            "\n",
            "MuPDF error: format error: object out of range (1167 0 R); xref size 1167\n",
            "\n",
            "MuPDF error: format error: object out of range (1167 0 R); xref size 1167\n",
            "\n",
            "MuPDF error: format error: object out of range (1167 0 R); xref size 1167\n",
            "\n",
            "MuPDF error: format error: object out of range (1167 0 R); xref size 1167\n",
            "\n",
            "MuPDF error: format error: object out of range (1167 0 R); xref size 1167\n",
            "\n",
            "MuPDF error: format error: object out of range (1167 0 R); xref size 1167\n",
            "\n",
            "MuPDF error: format error: object out of range (1167 0 R); xref size 1167\n",
            "\n",
            "MuPDF error: format error: object out of range (1167 0 R); xref size 1167\n",
            "\n",
            "MuPDF error: format error: object out of range (1167 0 R); xref size 1167\n",
            "\n",
            "MuPDF error: format error: object out of range (1167 0 R); xref size 1167\n",
            "\n",
            "MuPDF error: format error: object out of range (1167 0 R); xref size 1167\n",
            "\n",
            "MuPDF error: format error: object out of range (1167 0 R); xref size 1167\n",
            "\n",
            "MuPDF error: format error: object out of range (1167 0 R); xref size 1167\n",
            "\n",
            "MuPDF error: format error: object out of range (1167 0 R); xref size 1167\n",
            "\n",
            "MuPDF error: format error: object out of range (1167 0 R); xref size 1167\n",
            "\n",
            "MuPDF error: format error: object out of range (1167 0 R); xref size 1167\n",
            "\n",
            "MuPDF error: format error: object out of range (1167 0 R); xref size 1167\n",
            "\n",
            "MuPDF error: format error: object out of range (1167 0 R); xref size 1167\n",
            "\n",
            "MuPDF error: format error: object out of range (1167 0 R); xref size 1167\n",
            "\n",
            "MuPDF error: format error: object out of range (1167 0 R); xref size 1167\n",
            "\n",
            "MuPDF error: format error: object out of range (1167 0 R); xref size 1167\n",
            "\n",
            "MuPDF error: format error: object out of range (1167 0 R); xref size 1167\n",
            "\n",
            "MuPDF error: format error: object out of range (1167 0 R); xref size 1167\n",
            "\n",
            "MuPDF error: format error: object out of range (1167 0 R); xref size 1167\n",
            "\n",
            "MuPDF error: format error: object out of range (1167 0 R); xref size 1167\n",
            "\n",
            "MuPDF error: format error: object out of range (1167 0 R); xref size 1167\n",
            "\n",
            "MuPDF error: format error: object out of range (1167 0 R); xref size 1167\n",
            "\n",
            "MuPDF error: format error: object out of range (1167 0 R); xref size 1167\n",
            "\n",
            "MuPDF error: format error: object out of range (1167 0 R); xref size 1167\n",
            "\n",
            "MuPDF error: format error: object out of range (1167 0 R); xref size 1167\n",
            "\n",
            "MuPDF error: format error: object out of range (1167 0 R); xref size 1167\n",
            "\n",
            "MuPDF error: format error: object out of range (1167 0 R); xref size 1167\n",
            "\n",
            "MuPDF error: format error: object out of range (1167 0 R); xref size 1167\n",
            "\n",
            "MuPDF error: format error: object out of range (1167 0 R); xref size 1167\n",
            "\n",
            "MuPDF error: format error: object out of range (1167 0 R); xref size 1167\n",
            "\n",
            "MuPDF error: format error: object out of range (1167 0 R); xref size 1167\n",
            "\n",
            "MuPDF error: format error: object out of range (1167 0 R); xref size 1167\n",
            "\n",
            "MuPDF error: format error: object out of range (1167 0 R); xref size 1167\n",
            "\n",
            "MuPDF error: format error: object out of range (1167 0 R); xref size 1167\n",
            "\n",
            "MuPDF error: format error: object out of range (1167 0 R); xref size 1167\n",
            "\n",
            "MuPDF error: format error: object out of range (1167 0 R); xref size 1167\n",
            "\n",
            "MuPDF error: format error: object out of range (1167 0 R); xref size 1167\n",
            "\n",
            "MuPDF error: format error: object out of range (1167 0 R); xref size 1167\n",
            "\n",
            "MuPDF error: format error: object out of range (1167 0 R); xref size 1167\n",
            "\n",
            "MuPDF error: format error: object out of range (1167 0 R); xref size 1167\n",
            "\n",
            "MuPDF error: format error: No default Layer config\n",
            "\n",
            "MuPDF error: format error: No default Layer config\n",
            "\n",
            "MuPDF error: format error: No default Layer config\n",
            "\n",
            "MuPDF error: unsupported error: cannot create appearance stream for Image annotations\n",
            "\n",
            "MuPDF error: unsupported error: cannot create appearance stream for Image annotations\n",
            "\n",
            "MuPDF error: format error: No default Layer config\n",
            "\n",
            "MuPDF error: format error: No default Layer config\n",
            "\n",
            "MuPDF error: format error: No default Layer config\n",
            "\n",
            "MuPDF error: format error: No default Layer config\n",
            "\n"
          ]
        }
      ]
    },
    {
      "cell_type": "markdown",
      "source": [
        "Defining keyword of clusters for interpretation"
      ],
      "metadata": {
        "id": "W-ga2VTLUKeM"
      }
    },
    {
      "cell_type": "code",
      "source": [
        "topic_keywords = {\n",
        "    \"science\": [\"experiment\", \"research\", \"theory\", \"biology\", \"physics\", \"chemistry\"],\n",
        "    \"technology\": [\"technology\", \"software\", \"hardware\", \"computer\", \"internet\", \"device\"],\n",
        "    \"history\": [\"history\", \"ancient\", \"war\", \"empire\", \"revolution\", \"historical\"],\n",
        "    \"literature\": [\"literature\", \"poetry\", \"novel\", \"author\", \"fiction\", \"literary\"],\n",
        "    \"business\": [\"market\", \"finance\", \"economy\", \"profit\", \"investment\", \"industry\"]\n",
        "}"
      ],
      "metadata": {
        "id": "Fxq4DwgfUQ8b"
      },
      "execution_count": 4,
      "outputs": []
    },
    {
      "cell_type": "markdown",
      "source": [
        "Pre-Process text data"
      ],
      "metadata": {
        "id": "HE8xp2RTBkyF"
      }
    },
    {
      "cell_type": "code",
      "source": [
        "# Basic text preprocessing function\n",
        "def preprocess_text(text):\n",
        "    text = text.lower()\n",
        "    text = re.sub(r'\\d+', '', text)  # Remove numbers\n",
        "    text = re.sub(r'[^\\w\\s]', '', text)  # Remove punctuation\n",
        "    return text\n",
        "\n",
        "# Preprocess all texts\n",
        "cleaned_texts = [preprocess_text(text) for text in texts if text]  # only non-empty texts\n",
        "\n",
        "# Ensure cleaned_texts and pdf_files are the same length\n",
        "\n",
        "pdf_files_filtered = [pdf_files[i] for i in range(len(pdf_files)) if i < len(cleaned_texts)] # Filter out pdf_files entries where text extraction might have failed\n",
        "\n",
        "# Convert the texts into TF-IDF features\n",
        "vectorizer = TfidfVectorizer(stop_words='english')\n",
        "X = vectorizer.fit_transform(cleaned_texts)\n"
      ],
      "metadata": {
        "id": "MwONb2atBeIf"
      },
      "execution_count": 5,
      "outputs": []
    },
    {
      "cell_type": "markdown",
      "source": [
        "Applying KMeans clustering"
      ],
      "metadata": {
        "id": "HdTx4iPoB2Fd"
      }
    },
    {
      "cell_type": "code",
      "source": [
        "# Set the number of clusters (topics)\n",
        "num_clusters = len(topic_keywords)  # Using the number of defined topics\n",
        "kmeans = KMeans(n_clusters=num_clusters, random_state=42)\n",
        "kmeans.fit(X)\n",
        "\n",
        "# Get the cluster labels\n",
        "labels = kmeans.labels_"
      ],
      "metadata": {
        "id": "il4v55oGB4k5"
      },
      "execution_count": 6,
      "outputs": []
    },
    {
      "cell_type": "markdown",
      "source": [
        "Add Cluster Labels to DataFrame"
      ],
      "metadata": {
        "id": "yFZtt_l_CE1W"
      }
    },
    {
      "cell_type": "code",
      "source": [
        "# Create a DataFrame to store PDF files and their cluster labels\n",
        "clustered_df = pd.DataFrame({'PDF File': pdf_files_filtered, 'Cluster': labels})\n",
        "print(clustered_df.head())"
      ],
      "metadata": {
        "id": "VvHTmLVfCGLE",
        "colab": {
          "base_uri": "https://localhost:8080/"
        },
        "outputId": "3b807ba6-0f21-47a8-fcfe-fdd66a09ab8c"
      },
      "execution_count": 7,
      "outputs": [
        {
          "output_type": "stream",
          "name": "stdout",
          "text": [
            "                               PDF File  Cluster\n",
            "0  47HBHTDSTAKCJIYQ22345FHWVNVJMXJL.pdf        4\n",
            "1  46ZGYJDQNL2COPU447ILTCZ6EUMSQOHA.pdf        4\n",
            "2  3WVRGDKMXZRPVBBNRYOLXY3J3VIZROXI.pdf        4\n",
            "3  3RCHLDD2YCPDNLHEV4AVKEPBYJP5UBZB.pdf        4\n",
            "4  4RPOXAYQCNHNFQZMBDNNZAZUSVYDBPQJ.pdf        4\n"
          ]
        }
      ]
    },
    {
      "cell_type": "markdown",
      "source": [
        "Interpret clusters by keywords"
      ],
      "metadata": {
        "id": "H9wnLWOXUv2a"
      }
    },
    {
      "cell_type": "code",
      "source": [
        "# Define the mapping of cluster indices to topic names\n",
        "# Assuming clusters correspond to:\n",
        "# 0: science, 1: technology, 2: history, 3: literature, 4: business\n",
        "cluster_names = {\n",
        "    0: \"science\",\n",
        "    1: \"technology\",\n",
        "    2: \"history\",\n",
        "    3: \"literature\",\n",
        "    4: \"business\"\n",
        "}\n",
        "\n",
        "# Retrieve terms from the TF-IDF vectorizer for cluster interpretation\n",
        "terms = vectorizer.get_feature_names_out()\n",
        "\n",
        "for i in range(num_clusters):\n",
        "    # Get indices of the top terms for each cluster\n",
        "    top_term_indices = np.argsort(kmeans.cluster_centers_[i])[-10:]\n",
        "    top_terms = [terms[ind] for ind in top_term_indices[::-1]]\n",
        "    print(f\"Cluster {i} top terms:\", top_terms)\n",
        "\n",
        "    # Print the topic name assigned to this cluster\n",
        "    assigned_topic = cluster_names.get(i, \"Unknown\")\n",
        "    print(f\"Cluster {i} represents: {assigned_topic}\")\n",
        "    print()\n",
        "\n",
        "# Map the cluster labels to their assigned topic names in the DataFrame\n",
        "clustered_df['Topic'] = clustered_df['Cluster'].map(cluster_names)\n",
        "\n",
        "# Preview the DataFrame to verify topics\n",
        "print(clustered_df[['PDF File', 'Cluster', 'Topic']].head())\n"
      ],
      "metadata": {
        "id": "-xaxdDW7U2WP",
        "colab": {
          "base_uri": "https://localhost:8080/"
        },
        "outputId": "3636f1a6-404d-4f6d-8383-1c69b603014a"
      },
      "execution_count": 8,
      "outputs": [
        {
          "output_type": "stream",
          "name": "stdout",
          "text": [
            "Cluster 0 top terms: ['shall', 'section', 'date', 'information', 'fr', 'des', 'act', 'notice', 'federal', 'code']\n",
            "Cluster 0 represents: science\n",
            "\n",
            "Cluster 1 top terms: ['data', 'school', 'humanitarian', 'students', 'model', 'target', 'district', 'indicator', 'disabilities', 'centre']\n",
            "Cluster 1 represents: technology\n",
            "\n",
            "Cluster 2 top terms: ['court', 'motion', 'district', 'united', 'states', 'rule', 'defendant', 'case', 'fd', 'filed']\n",
            "Cluster 2 represents: history\n",
            "\n",
            "Cluster 3 top terms: ['ky', 'la', 'cvrcjwgc', 'datos', 'los', 'repealed', 'acts', 'ch', 'sec', 'para']\n",
            "Cluster 3 represents: literature\n",
            "\n",
            "Cluster 4 top terms: ['health', 'care', 'total', 'state', 'program', 'county', 'congressman', 'new', 'house', 'million']\n",
            "Cluster 4 represents: business\n",
            "\n",
            "                               PDF File  Cluster     Topic\n",
            "0  47HBHTDSTAKCJIYQ22345FHWVNVJMXJL.pdf        4  business\n",
            "1  46ZGYJDQNL2COPU447ILTCZ6EUMSQOHA.pdf        4  business\n",
            "2  3WVRGDKMXZRPVBBNRYOLXY3J3VIZROXI.pdf        4  business\n",
            "3  3RCHLDD2YCPDNLHEV4AVKEPBYJP5UBZB.pdf        4  business\n",
            "4  4RPOXAYQCNHNFQZMBDNNZAZUSVYDBPQJ.pdf        4  business\n"
          ]
        }
      ]
    },
    {
      "cell_type": "markdown",
      "source": [
        "Data Visualizatin of clusters"
      ],
      "metadata": {
        "id": "ZbtbCIeWCMrC"
      }
    },
    {
      "cell_type": "code",
      "source": [
        "#importing the dependencies for data visualization\n",
        "import matplotlib.pyplot as plt\n",
        "import seaborn as sns\n",
        "\n",
        "# Visualize the number of PDFs in each cluster\n",
        "plt.figure(figsize=(10, 6))\n",
        "sns.countplot(data=clustered_df, x='Cluster', palette='husl')\n",
        "plt.title('Number of PDFs in Each Cluster')\n",
        "plt.xlabel('Cluster')\n",
        "plt.ylabel('Number of PDFs')\n",
        "plt.show()"
      ],
      "metadata": {
        "colab": {
          "base_uri": "https://localhost:8080/",
          "height": 671
        },
        "id": "asafx9H5inYJ",
        "outputId": "1bf65675-2ddc-41b2-b879-eb98ab807df2"
      },
      "execution_count": 15,
      "outputs": [
        {
          "output_type": "stream",
          "name": "stderr",
          "text": [
            "<ipython-input-15-28cc909ef54d>:7: FutureWarning: \n",
            "\n",
            "Passing `palette` without assigning `hue` is deprecated and will be removed in v0.14.0. Assign the `x` variable to `hue` and set `legend=False` for the same effect.\n",
            "\n",
            "  sns.countplot(data=clustered_df, x='Cluster', palette='husl')\n"
          ]
        },
        {
          "output_type": "display_data",
          "data": {
            "text/plain": [
              "<Figure size 1000x600 with 1 Axes>"
            ],
            "image/png": "[encoded data removed]"
          },
          "metadata": {}
        }
      ]
    },
    {
      "cell_type": "markdown",
      "source": [
        "Saving and downloading the model\n",
        "\n"
      ],
      "metadata": {
        "id": "PDMT0OvCCyKm"
      }
    },
    {
      "cell_type": "code",
      "source": [
        "# Saving the KMeans model and TF-IDF vectorizer\n",
        "with open('/content/kmeans_model.pkl', 'wb') as model_file:\n",
        "    pickle.dump(kmeans, model_file)\n",
        "\n",
        "with open('/content/vectorizer.pkl', 'wb') as vectorizer_file:\n",
        "    pickle.dump(vectorizer, vectorizer_file)\n",
        "\n",
        "# Save the topic mapping dictionary\n",
        "with open('/content/cluster_names.pkl', 'wb') as names_file:\n",
        "    pickle.dump(cluster_names, names_file)\n",
        "\n",
        "# Downloading the saved pickle files\n",
        "files.download('/content/kmeans_model.pkl')\n",
        "files.download('/content/vectorizer.pkl')\n",
        "files.download('/content/cluster_names.pkl')\n"
      ],
      "metadata": {
        "id": "LRRSjrDCCzfg",
        "colab": {
          "base_uri": "https://localhost:8080/",
          "height": 17
        },
        "outputId": "e2baea2e-d327-4cac-bc1a-cf0cf17bdbfc"
      },
      "execution_count": 17,
      "outputs": [
        {
          "output_type": "display_data",
          "data": {
            "text/plain": [
              "<IPython.core.display.Javascript object>"
            ],
            "application/javascript": [
              "\n",
              "    async function download(id, filename, size) {\n",
              "      if (!google.colab.kernel.accessAllowed) {\n",
              "        return;\n",
              "      }\n",
              "      const div = document.createElement('div');\n",
              "      const label = document.createElement('label');\n",
              "      label.textContent = `Downloading \"${filename}\": `;\n",
              "      div.appendChild(label);\n",
              "      const progress = document.createElement('progress');\n",
              "      progress.max = size;\n",
              "      div.appendChild(progress);\n",
              "      document.body.appendChild(div);\n",
              "\n",
              "      const buffers = [];\n",
              "      let downloaded = 0;\n",
              "\n",
              "      const channel = await google.colab.kernel.comms.open(id);\n",
              "      // Send a message to notify the kernel that we're ready.\n",
              "      channel.send({})\n",
              "\n",
              "      for await (const message of channel.messages) {\n",
              "        // Send a message to notify the kernel that we're ready.\n",
              "        channel.send({})\n",
              "        if (message.buffers) {\n",
              "          for (const buffer of message.buffers) {\n",
              "            buffers.push(buffer);\n",
              "            downloaded += buffer.byteLength;\n",
              "            progress.value = downloaded;\n",
              "          }\n",
              "        }\n",
              "      }\n",
              "      const blob = new Blob(buffers, {type: 'application/binary'});\n",
              "      const a = document.createElement('a');\n",
              "      a.href = window.URL.createObjectURL(blob);\n",
              "      a.download = filename;\n",
              "      div.appendChild(a);\n",
              "      a.click();\n",
              "      div.remove();\n",
              "    }\n",
              "  "
            ]
          },
          "metadata": {}
        },
        {
          "output_type": "display_data",
          "data": {
            "text/plain": [
              "<IPython.core.display.Javascript object>"
            ],
            "application/javascript": [
              "download(\"download_e43c30fb-c833-40bc-9e43-f7b3e630ce4a\", \"kmeans_model.pkl\", 4260956)"
            ]
          },
          "metadata": {}
        },
        {
          "output_type": "display_data",
          "data": {
            "text/plain": [
              "<IPython.core.display.Javascript object>"
            ],
            "application/javascript": [
              "\n",
              "    async function download(id, filename, size) {\n",
              "      if (!google.colab.kernel.accessAllowed) {\n",
              "        return;\n",
              "      }\n",
              "      const div = document.createElement('div');\n",
              "      const label = document.createElement('label');\n",
              "      label.textContent = `Downloading \"${filename}\": `;\n",
              "      div.appendChild(label);\n",
              "      const progress = document.createElement('progress');\n",
              "      progress.max = size;\n",
              "      div.appendChild(progress);\n",
              "      document.body.appendChild(div);\n",
              "\n",
              "      const buffers = [];\n",
              "      let downloaded = 0;\n",
              "\n",
              "      const channel = await google.colab.kernel.comms.open(id);\n",
              "      // Send a message to notify the kernel that we're ready.\n",
              "      channel.send({})\n",
              "\n",
              "      for await (const message of channel.messages) {\n",
              "        // Send a message to notify the kernel that we're ready.\n",
              "        channel.send({})\n",
              "        if (message.buffers) {\n",
              "          for (const buffer of message.buffers) {\n",
              "            buffers.push(buffer);\n",
              "            downloaded += buffer.byteLength;\n",
              "            progress.value = downloaded;\n",
              "          }\n",
              "        }\n",
              "      }\n",
              "      const blob = new Blob(buffers, {type: 'application/binary'});\n",
              "      const a = document.createElement('a');\n",
              "      a.href = window.URL.createObjectURL(blob);\n",
              "      a.download = filename;\n",
              "      div.appendChild(a);\n",
              "      a.click();\n",
              "      div.remove();\n",
              "    }\n",
              "  "
            ]
          },
          "metadata": {}
        },
        {
          "output_type": "display_data",
          "data": {
            "text/plain": [
              "<IPython.core.display.Javascript object>"
            ],
            "application/javascript": [
              "download(\"download_70ba1d2d-9775-4848-af45-9b185001b331\", \"vectorizer.pkl\", 2493053)"
            ]
          },
          "metadata": {}
        },
        {
          "output_type": "display_data",
          "data": {
            "text/plain": [
              "<IPython.core.display.Javascript object>"
            ],
            "application/javascript": [
              "\n",
              "    async function download(id, filename, size) {\n",
              "      if (!google.colab.kernel.accessAllowed) {\n",
              "        return;\n",
              "      }\n",
              "      const div = document.createElement('div');\n",
              "      const label = document.createElement('label');\n",
              "      label.textContent = `Downloading \"${filename}\": `;\n",
              "      div.appendChild(label);\n",
              "      const progress = document.createElement('progress');\n",
              "      progress.max = size;\n",
              "      div.appendChild(progress);\n",
              "      document.body.appendChild(div);\n",
              "\n",
              "      const buffers = [];\n",
              "      let downloaded = 0;\n",
              "\n",
              "      const channel = await google.colab.kernel.comms.open(id);\n",
              "      // Send a message to notify the kernel that we're ready.\n",
              "      channel.send({})\n",
              "\n",
              "      for await (const message of channel.messages) {\n",
              "        // Send a message to notify the kernel that we're ready.\n",
              "        channel.send({})\n",
              "        if (message.buffers) {\n",
              "          for (const buffer of message.buffers) {\n",
              "            buffers.push(buffer);\n",
              "            downloaded += buffer.byteLength;\n",
              "            progress.value = downloaded;\n",
              "          }\n",
              "        }\n",
              "      }\n",
              "      const blob = new Blob(buffers, {type: 'application/binary'});\n",
              "      const a = document.createElement('a');\n",
              "      a.href = window.URL.createObjectURL(blob);\n",
              "      a.download = filename;\n",
              "      div.appendChild(a);\n",
              "      a.click();\n",
              "      div.remove();\n",
              "    }\n",
              "  "
            ]
          },
          "metadata": {}
        },
        {
          "output_type": "display_data",
          "data": {
            "text/plain": [
              "<IPython.core.display.Javascript object>"
            ],
            "application/javascript": [
              "download(\"download_68839f1c-7318-40f2-9551-70a81654c8a5\", \"cluster_names.pkl\", 73)"
            ]
          },
          "metadata": {}
        }
      ]
    },
    {
      "cell_type": "code",
      "source": [],
      "metadata": {
        "id": "3y7mr3R8EKMb"
      },
      "execution_count": 18,
      "outputs": []
    }
  ]
}